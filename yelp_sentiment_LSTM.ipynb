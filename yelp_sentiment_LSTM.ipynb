{
 "cells": [
  {
   "cell_type": "markdown",
   "metadata": {},
   "source": [
    "Author: Darshan Sundaram"
   ]
  },
  {
   "cell_type": "markdown",
   "metadata": {},
   "source": [
    "I start off my analysis by importing the dataset and checking for any missing values. I will then pre-process the data according to a few parameters I define. Namely, I will remove stopwords, punctuation, noise words and numbers. This would help remove the noise from the dataset and allow for a more robust input into our embedding layers in the NN. \n",
    "\n",
    "I will divide by dataset into training and testing (75/25 split). I will not manually divide my data into a validation set as there is an inbuilt option to split within the neural network. I start off inputting my cleaned text into the inbuilt keras Tokenizer which builds on a vocabulary on the data it is trained on and translates that into a sequence of integers for each words that escapes the filters I set such as vocabulary size, max document lenght and output length from the embdedding layer. These are all parameters that I experimented with to find an optimal pairing. I use these vectors for each document within my corpus and run it through glove embeddings, which will enable me to still retain meaning in vector space, and also considers global fequency information to build a coherent co-occurence matrix and eventually build a weight matrix for our word vectors output. I will then run it through a bidirectional LSTM allows us to preserve information from the future (words after our target word) to the past and past (words from the past before our target word) to the future and allows us to gain a better contextual understanding. I experimented with two hidden fully connected dense layers but my accuracy took a dip so I chose not to include them. However, I am certain a more complex model with deeper hidden layers could abstract more information. The output layer is a dense layer of size 1 (binary) with signmoid and a loss function of binary cross entropy (one of the few choices we have) and an adam optimizer. I experimented with SGD but results were poorer. Hence Adam as chosen as my main optimizer. The accompanying parameters such as batch_size and epochs were also tuned to abstract the highest accuracy. Within this next step, I can define my validation split to test on a held out set.  "
   ]
  },
  {
   "cell_type": "code",
   "execution_count": 32,
   "metadata": {},
   "outputs": [],
   "source": [
    "import pandas as pd\n",
    "# packages you may need to import\n",
    "from sklearn.datasets import load_files\n",
    "from scipy.stats import uniform, randint as sp_randint\n",
    "import pandas as pd\n",
    "import numpy as np\n",
    "from sklearn.model_selection import train_test_split, cross_val_score, GridSearchCV\n",
    "from sklearn.linear_model import LogisticRegression\n",
    "from sklearn.feature_extraction.text import CountVectorizer, TfidfVectorizer\n",
    "from sklearn.metrics import accuracy_score, confusion_matrix, precision_score, recall_score, f1_score\n",
    "from sklearn.decomposition import LatentDirichletAllocation\n",
    "from sklearn.model_selection import KFold,StratifiedKFold,RandomizedSearchCV, GridSearchCV\n",
    "import nltk\n",
    "from nltk.cluster import KMeansClusterer, cosine_distance\n",
    "import numpy as np\n",
    "from nltk.tokenize import word_tokenize, sent_tokenize\n",
    "from nltk.corpus import stopwords\n",
    "import re\n",
    "import string\n",
    "from sklearn.pipeline import make_pipeline, Pipeline\n",
    "from nltk import pos_tag\n",
    "import matplotlib.pyplot as plt\n",
    "%matplotlib inline\n",
    "\n",
    "import pandas as pd\n",
    "import numpy as np\n",
    "from sklearn.model_selection import train_test_split, cross_val_score, KFold,StratifiedKFold\n",
    "from sklearn.preprocessing import StandardScaler, MinMaxScaler, RobustScaler, MaxAbsScaler\n",
    "from sklearn.metrics import accuracy_score\n",
    "\n",
    "from sklearn.svm import SVC, NuSVC, LinearSVC\n",
    "from sklearn.pipeline import make_pipeline, Pipeline\n",
    "from sklearn import preprocessing, svm\n",
    "#from sklearn.grid_search import GridSearchCV\n",
    "from sklearn.decomposition import PCA\n"
   ]
  },
  {
   "cell_type": "code",
   "execution_count": 34,
   "metadata": {},
   "outputs": [],
   "source": [
    "q2 = pd.read_csv(\"yelp_labelled.txt\", sep = '\\t', header = None)\n",
    "q2.columns = ([\"Review\", \"Rating\"])\n",
    "text_raw = q2[\"Review\"]"
   ]
  },
  {
   "cell_type": "code",
   "execution_count": 36,
   "metadata": {},
   "outputs": [],
   "source": [
    "#Removing stopwords and other characters as defined by me\n",
    "from nltk.stem import WordNetLemmatizer\n",
    "tuk_ready_stem = []\n",
    "from nltk.stem.snowball import SnowballStemmer\n",
    "\n",
    "stem = SnowballStemmer(\"english\")\n",
    "\n",
    "stopw = stopwords.words('english') + list(string.punctuation)  +[\"’\",\"”\",\"—\",\"“\"]\n",
    "\n",
    "\n",
    "for i in range(0,len(text_raw)):\n",
    "    x = text_raw[i]\n",
    "    text = re.sub(r'((.)\\2{2,})', ' ', x) #remove three or more consecutive characters like 'trashhhh'\n",
    "    text = re.sub('[^a-zA-Z0-9]', ' ', text)\n",
    "    \n",
    "   \n",
    "    #Words\n",
    "    tokens = [stop for stop in word_tokenize(text.lower()) if stop not in stopw] #removes stopwords, punctuation and custom filter\n",
    "    #tokens = [w for w in tokens if w.isalpha()]  #remove every that is not fully alphabetic\n",
    "    tokens = [w for w in tokens if re.findall(r\"(\\w{2})\",w) ] #removes anything less than 3 characters\n",
    "    #tokens = [stem.stem(w) for w in tokens]\n",
    "    review = ' '.join(tokens)\n",
    "    tuk_ready_stem.append(review)\n",
    "    \n"
   ]
  },
  {
   "cell_type": "code",
   "execution_count": 37,
   "metadata": {},
   "outputs": [],
   "source": [
    "\n",
    "y = q2[\"Rating\"]"
   ]
  },
  {
   "cell_type": "code",
   "execution_count": 38,
   "metadata": {},
   "outputs": [],
   "source": [
    "from sklearn.model_selection import train_test_split\n",
    "\n",
    "X_train, X_test, y_train, y_test = train_test_split(tuk_ready_stem, y, test_size=0.25, random_state=1)\n",
    "\n"
   ]
  },
  {
   "cell_type": "code",
   "execution_count": 39,
   "metadata": {},
   "outputs": [
    {
     "name": "stderr",
     "output_type": "stream",
     "text": [
      "Using TensorFlow backend.\n"
     ]
    }
   ],
   "source": [
    "from keras.models import Sequential \n",
    "from keras.layers import Dense, Embedding,Conv1D, GlobalMaxPooling1D, LSTM, MaxPooling1D, Bidirectional, Flatten, Dropout\n",
    "from keras import layers, models, callbacks, optimizers\n",
    "from keras.preprocessing.text import Tokenizer\n",
    "from keras.preprocessing.sequence import pad_sequences"
   ]
  },
  {
   "cell_type": "code",
   "execution_count": 40,
   "metadata": {},
   "outputs": [],
   "source": [
    "\n",
    "max_words = 20000\n",
    "\n",
    "tok = Tokenizer(num_words = max_words)\n",
    "tok.fit_on_texts(X_train)\n",
    "tok_train = tok.texts_to_sequences(X_train)\n",
    "tok_test = tok.texts_to_sequences(X_test)"
   ]
  },
  {
   "cell_type": "code",
   "execution_count": 41,
   "metadata": {},
   "outputs": [],
   "source": [
    "maxlen = 100\n",
    "tok_train = pad_sequences(tok_train, padding = \"post\", maxlen = maxlen)\n",
    "tok_test= pad_sequences(tok_test, padding = \"post\", maxlen = maxlen)\n",
    "#scaler = StandardScaler()\n",
    "#tok_train1 = scaler.fit_transform(tok_train)\n",
    "#tok_test1 = scaler.transform(tok_test)"
   ]
  },
  {
   "cell_type": "code",
   "execution_count": 138,
   "metadata": {},
   "outputs": [
    {
     "name": "stdout",
     "output_type": "stream",
     "text": [
      "Loaded 400000 word vectors.\n"
     ]
    }
   ],
   "source": [
    "#code adapted from https://github.com/msahamed/yelp_comments_classification_nlp/blob/master/word_embeddings.ipynb\n",
    "embeddings_index = dict()\n",
    "f = open('glove.6B.300d.txt',encoding=\"utf8\")\n",
    "for line in f:\n",
    "    values = line.split()\n",
    "    word = values[0]\n",
    "    coefs = np.asarray(values[1:], dtype='float32')\n",
    "    embeddings_index[word] = coefs\n",
    "f.close()\n",
    "print('Loaded %s word vectors.' % len(embeddings_index))"
   ]
  },
  {
   "cell_type": "code",
   "execution_count": 139,
   "metadata": {},
   "outputs": [],
   "source": [
    "# create a weight matrix for words in training docs\n",
    "embedding_matrix = np.zeros((max_words, 300))\n",
    "for word, index in tok.word_index.items():\n",
    "    if index > max_words - 1:\n",
    "        break\n",
    "    else:\n",
    "        embedding_vector = embeddings_index.get(word)\n",
    "        if embedding_vector is not None:\n",
    "            embedding_matrix[index] = embedding_vector"
   ]
  },
  {
   "cell_type": "code",
   "execution_count": 144,
   "metadata": {},
   "outputs": [],
   "source": [
    "#-------------------------Random state-------------------------------------------------------------#\n",
    "\n",
    "import numpy as np\n",
    "import tensorflow as tf\n",
    "import random as rn\n",
    "\n",
    "# The below is necessary in Python 3.2.3 onwards to\n",
    "# have reproducible behavior for certain hash-based operations.\n",
    "# See these references for further details:\n",
    "# https://docs.python.org/3.4/using/cmdline.html#envvar-PYTHONHASHSEED\n",
    "# https://github.com/fchollet/keras/issues/2280#issuecomment-306959926\n",
    "\n",
    "import os\n",
    "os.environ['PYTHONHASHSEED'] = '0'\n",
    "\n",
    "# The below is necessary for starting Numpy generated random numbers\n",
    "# in a well-defined initial state.\n",
    "\n",
    "np.random.seed(425)\n",
    "\n",
    "# The below is necessary for starting core Python generated random numbers\n",
    "# in a well-defined state.\n",
    "\n",
    "rn.seed(235)\n",
    "\n",
    "# Force TensorFlow to use single thread.\n",
    "# Multiple threads are a potential source of\n",
    "# non-reproducible results.\n",
    "# For further details, see: https://stackoverflow.com/questions/42022950/which-seeds-have-to-be-set-where-to-realize-100-reproducibility-of-training-res\n",
    "\n",
    "session_conf = tf.ConfigProto(intra_op_parallelism_threads=1, inter_op_parallelism_threads=1)\n",
    "\n",
    "from keras import backend as K\n",
    "\n",
    "# The below tf.set_random_seed() will make random number generation\n",
    "# in the TensorFlow backend have a well-defined initial state.\n",
    "# For further details, see: https://www.tensorflow.org/api_docs/python/tf/set_random_seed\n",
    "\n",
    "tf.set_random_seed(235)\n",
    "\n",
    "sess = tf.Session(graph=tf.get_default_graph(), config=session_conf)\n",
    "K.set_session(sess)\n",
    "\n",
    "#-------------------------Random state-------------------------------------------------------------#\n",
    "\n",
    "\n",
    "\n",
    "model_glove = Sequential()\n",
    "model_glove.add(Embedding(max_words, 300, input_length=100, weights=[embedding_matrix], trainable=False))\n",
    "model_glove.add(Bidirectional(LSTM(128, dropout=0.3, recurrent_dropout=0.3)))\n",
    "\n",
    "model_glove.add(Dense(1, activation='sigmoid'))\n",
    "model_glove.compile(loss='binary_crossentropy', optimizer='adam', metrics=['accuracy'])"
   ]
  },
  {
   "cell_type": "code",
   "execution_count": 145,
   "metadata": {
    "scrolled": true
   },
   "outputs": [
    {
     "name": "stdout",
     "output_type": "stream",
     "text": [
      "Train on 525 samples, validate on 225 samples\n",
      "Epoch 1/20\n",
      " - 97s - loss: 0.6116 - acc: 0.6457 - val_loss: 0.5330 - val_acc: 0.7378\n",
      "Epoch 2/20\n",
      " - 90s - loss: 0.4655 - acc: 0.8038 - val_loss: 0.3980 - val_acc: 0.8356\n",
      "Epoch 3/20\n",
      " - 90s - loss: 0.4117 - acc: 0.8152 - val_loss: 0.3849 - val_acc: 0.8267\n",
      "Epoch 4/20\n",
      " - 89s - loss: 0.3610 - acc: 0.8248 - val_loss: 0.3695 - val_acc: 0.8311\n",
      "Epoch 5/20\n",
      " - 90s - loss: 0.3210 - acc: 0.8667 - val_loss: 0.3766 - val_acc: 0.8400\n"
     ]
    }
   ],
   "source": [
    "early_stopping = callbacks.EarlyStopping(monitor='val_loss', min_delta = 0.01,patience=1, verbose=0, mode='auto')\n",
    "History = model_glove.fit(tok_train, y_train, validation_split=0.3, epochs = 20,batch_size = 7, verbose = 2,callbacks=[early_stopping])\n",
    "\n"
   ]
  },
  {
   "cell_type": "code",
   "execution_count": 146,
   "metadata": {},
   "outputs": [
    {
     "data": {
      "image/png": "[encoded data removed]",
      "text/plain": [
       "<Figure size 432x288 with 1 Axes>"
      ]
     },
     "metadata": {
      "needs_background": "light"
     },
     "output_type": "display_data"
    },
    {
     "data": {
      "image/png": "[encoded data removed]",
      "text/plain": [
       "<Figure size 432x288 with 1 Axes>"
      ]
     },
     "metadata": {
      "needs_background": "light"
     },
     "output_type": "display_data"
    }
   ],
   "source": [
    "plt.plot(History.history['loss'])\n",
    "plt.plot(History.history['val_loss'])\n",
    "plt.title('model loss')\n",
    "plt.ylabel('loss')\n",
    "plt.xlabel('epoch')\n",
    "plt.legend(['train', 'test'], loc='upper left')\n",
    "plt.show()\n",
    "\n",
    "plt.plot(History.history['acc'])\n",
    "plt.plot(History.history['val_acc'])\n",
    "plt.title('model accuracy')\n",
    "plt.ylabel('sccuracy')\n",
    "plt.xlabel('epoch')\n",
    "plt.legend(['train', 'test'], loc='upper left')\n",
    "plt.show()\n"
   ]
  },
  {
   "cell_type": "markdown",
   "metadata": {},
   "source": [
    "Looks like the best epoch is at 4 or index 3 on the graph. With early stopping I slightly overfit my model on the training data as seen on the graph. "
   ]
  },
  {
   "cell_type": "code",
   "execution_count": 149,
   "metadata": {},
   "outputs": [
    {
     "name": "stdout",
     "output_type": "stream",
     "text": [
      "The accuracy is,  78.8 %\n"
     ]
    }
   ],
   "source": [
    "prednn = model_glove.predict(tok_test)\n",
    "prednn1  = (prednn > 0.5).astype(np.int)\n",
    "print(\"The accuracy is, \", accuracy_score(y_test,prednn1)*100, \"%\")"
   ]
  },
  {
   "cell_type": "code",
   "execution_count": 151,
   "metadata": {},
   "outputs": [
    {
     "name": "stdout",
     "output_type": "stream",
     "text": [
      "              precision    recall  f1-score   support\n",
      "\n",
      "           0       0.79      0.83      0.81       134\n",
      "           1       0.79      0.74      0.76       116\n",
      "\n",
      "   micro avg       0.79      0.79      0.79       250\n",
      "   macro avg       0.79      0.78      0.79       250\n",
      "weighted avg       0.79      0.79      0.79       250\n",
      "\n"
     ]
    }
   ],
   "source": [
    "print(classification_report(y_test,prednn1))"
   ]
  },
  {
   "cell_type": "markdown",
   "metadata": {},
   "source": [
    "As explained before, by using a bidirectional LSTM layer we abstract a higher level of contextual information. Running through the Tokenizer and the 300 wide Glove vector weights, we get a robust feature space. The parameters were tuned manually to improve model performance. I implement an early stopping condition on val loss and to prevent overfitting and come to find out the optimal value of epoch of lowest val_loss is at epoch 4 by looking at the loss graph. I overfit my model slightly by training it an extra epoch (this is my decision as I want to overfit a slight amount). This decision was proved to be the right decision as the training accuracy and testing accuracy was seen to increase with an extra epoch. Using this point as my final model, I predict on unseen testing data that was kept aside previously. The accuracy comes out to 78.8%, which is a respectable score. The F1 score dilenated by the labels, tell us that the model is more robust at detecting the negative label reviews as opposed to the positive label reviews. This is understandable as in my opinion negative reviews have stronger words that swing the sentiment more like (bad,terrible etc.), whereas \"pretty good but not the best\" could still be a negative review. Precision is fairly constant across the two classes and recall is a bit unbalanced with 83% for negative reviews and 74% for positive. This follows the same logic as before. \n",
    "\n",
    "\n",
    "Further steps could be implementing hidden fully connected dense layers, Con1d and max pooling layers before the LSTM. "
   ]
  }
 ],
 "metadata": {
  "kernelspec": {
   "display_name": "Python 3.6 (tensorflow)",
   "language": "python",
   "name": "tensorflow"
  },
  "language_info": {
   "codemirror_mode": {
    "name": "ipython",
    "version": 3
   },
   "file_extension": ".py",
   "mimetype": "text/x-python",
   "name": "python",
   "nbconvert_exporter": "python",
   "pygments_lexer": "ipython3",
   "version": "3.6.7"
  }
 },
 "nbformat": 4,
 "nbformat_minor": 2
}
